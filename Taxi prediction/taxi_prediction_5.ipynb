{
 "cells": [
  {
   "cell_type": "code",
   "execution_count": 1,
   "metadata": {},
   "outputs": [],
   "source": [
    "import pandas as pd\n",
    "import numpy as np\n",
    "import scipy as sc\n",
    "from scipy import stats\n",
    "import matplotlib.pyplot as plt\n",
    "from sklearn import model_selection\n",
    "import statsmodels.api as sm\n",
    "from statsmodels.tsa.stattools import adfuller\n",
    "from sklearn.preprocessing import StandardScaler as scaler\n",
    "from sklearn.metrics import mean_absolute_error as mae\n",
    "from itertools import product\n",
    "import datetime\n",
    "import os\n",
    "import warnings\n",
    "warnings.simplefilter(action='ignore')\n",
    "\n",
    "import lightgbm as lgb\n",
    "\n",
    "import hyperopt.hp as hp\n",
    "from hyperopt import fmin, tpe, STATUS_OK, Trials"
   ]
  },
  {
   "cell_type": "markdown",
   "metadata": {},
   "source": [
    "Предзагрузим необходимые данные:"
   ]
  },
  {
   "cell_type": "code",
   "execution_count": 3,
   "metadata": {},
   "outputs": [],
   "source": [
    "nonzero_reg=pd.read_csv(\"data/nonzero_regions.csv\").iloc[:,1]\n",
    "\n",
    "df = pd.read_csv('data/main_data_june.csv')\n",
    "df.index=df.time\n",
    "df.drop('time', axis=1, inplace=True)"
   ]
  },
  {
   "cell_type": "code",
   "execution_count": 5,
   "metadata": {},
   "outputs": [
    {
     "data": {
      "text/plain": [
       "(4368, 102)"
      ]
     },
     "execution_count": 5,
     "metadata": {},
     "output_type": "execute_result"
    }
   ],
   "source": [
    "df.shape"
   ]
  },
  {
   "cell_type": "code",
   "execution_count": 5,
   "metadata": {},
   "outputs": [],
   "source": [
    "predict_dict = {}\n",
    "for entry in os.listdir('models_predict'):\n",
    "    for file in os.listdir('models_predict/'+entry):\n",
    "        reg = file[:4]\n",
    "        temp = pd.read_csv('models_predict/'+entry+'/'+file).rename(columns={'Unnamed: 0':'time', '0': 'sarma', 'predicted_mean': 'sarma'})\n",
    "        temp.index=temp.time\n",
    "        temp.drop('time', axis=1, inplace=True)\n",
    "        predict_dict[reg] = temp"
   ]
  },
  {
   "cell_type": "markdown",
   "metadata": {},
   "source": [
    "Формируем датасеты с небольшим количеством новых призанков и добавляем их в словарь."
   ]
  },
  {
   "cell_type": "code",
   "execution_count": 6,
   "metadata": {},
   "outputs": [],
   "source": [
    "data_dic = {}\n",
    "for reg in nonzero_reg:\n",
    "    # добавить фичи\n",
    "    \n",
    "    temp_df = pd.DataFrame({\"y_t\": df[str(reg)]})\n",
    "    \n",
    "    temp_df['reg'] = reg\n",
    "    \n",
    "    for i in range(1,13):\n",
    "        y_t = \"y_t_\"+str(i)\n",
    "        temp_df[y_t] = temp_df[\"y_t\"].shift(i)\n",
    "    \n",
    "    for i in range(1,3):\n",
    "        y_t = \"y_day_\"+str(i)\n",
    "        temp_df[y_t] = temp_df[\"y_t\"].shift(24*i)\n",
    "    \n",
    "    time = pd.to_datetime(temp_df.index)\n",
    "    \n",
    "    temp_df['month'] = time.month\n",
    "    temp_df['day'] = time.day\n",
    "    temp_df['weekday'] = time.weekday\n",
    "    temp_df['hour'] = time.hour\n",
    "    \n",
    "    temp_df = pd.concat([temp_df, predict_dict[str(reg)]], axis=1)\n",
    "    \n",
    "    for i in range(0,6):\n",
    "        y_=\"y\"+str(i+1)\n",
    "        temp_df[y_] = temp_df['y_t'].shift(-i-1)\n",
    "\n",
    "    data_dic[reg] = temp_df.iloc[48:-6]\n",
    "    "
   ]
  },
  {
   "cell_type": "markdown",
   "metadata": {},
   "source": [
    "Формируем тренировочные, валидационные и тестовые датасеты."
   ]
  },
  {
   "cell_type": "code",
   "execution_count": 7,
   "metadata": {},
   "outputs": [
    {
     "name": "stdout",
     "output_type": "stream",
     "text": [
      "Wall time: 9.65 s\n"
     ]
    }
   ],
   "source": [
    "%%time\n",
    "X_train, X_val, X_test = pd.DataFrame(), pd.DataFrame(), pd.DataFrame()\n",
    "\n",
    "for reg in nonzero_reg:\n",
    "    X_train = pd.concat([X_train, data_dic[reg].loc[data_dic[reg].index < '2016-04-30 23:00:00']])\n",
    "    X_val = pd.concat([X_val, data_dic[reg].loc[(data_dic[reg].index >= '2016-04-30 23:00:00') & (data_dic[reg].index <= '2016-05-31 17:00:00')]])\n",
    "    X_test = pd.concat([X_test, data_dic[reg].loc[data_dic[reg].index >= '2016-05-31 23:00:00']])\n",
    "    \n",
    "y_train = X_train[['y1', 'y2', 'y3', 'y4', 'y5', 'y6']]\n",
    "X_train.drop(['y1', 'y2', 'y3', 'y4', 'y5', 'y6'], axis=1, inplace=True)\n",
    "y_val = X_val[['y1', 'y2', 'y3', 'y4', 'y5', 'y6']]\n",
    "X_val.drop(['y1', 'y2', 'y3', 'y4', 'y5', 'y6'], axis=1, inplace=True)\n",
    "y_test = X_test[['y1', 'y2', 'y3', 'y4', 'y5', 'y6']]\n",
    "X_test.drop(['y1', 'y2', 'y3', 'y4', 'y5', 'y6'], axis=1, inplace=True)"
   ]
  },
  {
   "cell_type": "code",
   "execution_count": 6,
   "metadata": {},
   "outputs": [
    {
     "name": "stdout",
     "output_type": "stream",
     "text": [
      "(291210, 21) (291210, 6)\n",
      "(75378, 21) (75378, 6)\n",
      "(72930, 21) (72930, 6)\n"
     ]
    }
   ],
   "source": [
    "print(X_train.shape, y_train.shape)\n",
    "print(X_val.shape, y_val.shape)\n",
    "print(X_test.shape, y_test.shape)"
   ]
  },
  {
   "cell_type": "code",
   "execution_count": 167,
   "metadata": {},
   "outputs": [
    {
     "data": {
      "text/html": [
       "<div>\n",
       "<style scoped>\n",
       "    .dataframe tbody tr th:only-of-type {\n",
       "        vertical-align: middle;\n",
       "    }\n",
       "\n",
       "    .dataframe tbody tr th {\n",
       "        vertical-align: top;\n",
       "    }\n",
       "\n",
       "    .dataframe thead th {\n",
       "        text-align: right;\n",
       "    }\n",
       "</style>\n",
       "<table border=\"1\" class=\"dataframe\">\n",
       "  <thead>\n",
       "    <tr style=\"text-align: right;\">\n",
       "      <th></th>\n",
       "      <th>y_t</th>\n",
       "      <th>reg</th>\n",
       "      <th>y_t_1</th>\n",
       "      <th>y_t_2</th>\n",
       "      <th>y_t_3</th>\n",
       "      <th>y_t_4</th>\n",
       "      <th>y_t_5</th>\n",
       "      <th>y_t_6</th>\n",
       "      <th>y_t_7</th>\n",
       "      <th>y_t_8</th>\n",
       "      <th>...</th>\n",
       "      <th>y_t_10</th>\n",
       "      <th>y_t_11</th>\n",
       "      <th>y_t_12</th>\n",
       "      <th>y_day_1</th>\n",
       "      <th>y_day_2</th>\n",
       "      <th>month</th>\n",
       "      <th>day</th>\n",
       "      <th>weekday</th>\n",
       "      <th>hour</th>\n",
       "      <th>sarma</th>\n",
       "    </tr>\n",
       "    <tr>\n",
       "      <th>time</th>\n",
       "      <th></th>\n",
       "      <th></th>\n",
       "      <th></th>\n",
       "      <th></th>\n",
       "      <th></th>\n",
       "      <th></th>\n",
       "      <th></th>\n",
       "      <th></th>\n",
       "      <th></th>\n",
       "      <th></th>\n",
       "      <th></th>\n",
       "      <th></th>\n",
       "      <th></th>\n",
       "      <th></th>\n",
       "      <th></th>\n",
       "      <th></th>\n",
       "      <th></th>\n",
       "      <th></th>\n",
       "      <th></th>\n",
       "      <th></th>\n",
       "      <th></th>\n",
       "    </tr>\n",
       "  </thead>\n",
       "  <tbody>\n",
       "    <tr>\n",
       "      <th>2016-01-03 00:00:00</th>\n",
       "      <td>51.0</td>\n",
       "      <td>1075</td>\n",
       "      <td>48.0</td>\n",
       "      <td>53.0</td>\n",
       "      <td>59.0</td>\n",
       "      <td>47.0</td>\n",
       "      <td>54.0</td>\n",
       "      <td>78.0</td>\n",
       "      <td>120.0</td>\n",
       "      <td>142.0</td>\n",
       "      <td>...</td>\n",
       "      <td>105.0</td>\n",
       "      <td>163.0</td>\n",
       "      <td>133.0</td>\n",
       "      <td>24.0</td>\n",
       "      <td>80.0</td>\n",
       "      <td>1</td>\n",
       "      <td>3</td>\n",
       "      <td>6</td>\n",
       "      <td>0</td>\n",
       "      <td>42.987883</td>\n",
       "    </tr>\n",
       "    <tr>\n",
       "      <th>2016-01-03 01:00:00</th>\n",
       "      <td>21.0</td>\n",
       "      <td>1075</td>\n",
       "      <td>51.0</td>\n",
       "      <td>48.0</td>\n",
       "      <td>53.0</td>\n",
       "      <td>59.0</td>\n",
       "      <td>47.0</td>\n",
       "      <td>54.0</td>\n",
       "      <td>78.0</td>\n",
       "      <td>120.0</td>\n",
       "      <td>...</td>\n",
       "      <td>125.0</td>\n",
       "      <td>105.0</td>\n",
       "      <td>163.0</td>\n",
       "      <td>9.0</td>\n",
       "      <td>91.0</td>\n",
       "      <td>1</td>\n",
       "      <td>3</td>\n",
       "      <td>6</td>\n",
       "      <td>1</td>\n",
       "      <td>22.461648</td>\n",
       "    </tr>\n",
       "    <tr>\n",
       "      <th>2016-01-03 02:00:00</th>\n",
       "      <td>10.0</td>\n",
       "      <td>1075</td>\n",
       "      <td>21.0</td>\n",
       "      <td>51.0</td>\n",
       "      <td>48.0</td>\n",
       "      <td>53.0</td>\n",
       "      <td>59.0</td>\n",
       "      <td>47.0</td>\n",
       "      <td>54.0</td>\n",
       "      <td>78.0</td>\n",
       "      <td>...</td>\n",
       "      <td>142.0</td>\n",
       "      <td>125.0</td>\n",
       "      <td>105.0</td>\n",
       "      <td>11.0</td>\n",
       "      <td>90.0</td>\n",
       "      <td>1</td>\n",
       "      <td>3</td>\n",
       "      <td>6</td>\n",
       "      <td>2</td>\n",
       "      <td>7.118372</td>\n",
       "    </tr>\n",
       "    <tr>\n",
       "      <th>2016-01-03 03:00:00</th>\n",
       "      <td>8.0</td>\n",
       "      <td>1075</td>\n",
       "      <td>10.0</td>\n",
       "      <td>21.0</td>\n",
       "      <td>51.0</td>\n",
       "      <td>48.0</td>\n",
       "      <td>53.0</td>\n",
       "      <td>59.0</td>\n",
       "      <td>47.0</td>\n",
       "      <td>54.0</td>\n",
       "      <td>...</td>\n",
       "      <td>120.0</td>\n",
       "      <td>142.0</td>\n",
       "      <td>125.0</td>\n",
       "      <td>5.0</td>\n",
       "      <td>32.0</td>\n",
       "      <td>1</td>\n",
       "      <td>3</td>\n",
       "      <td>6</td>\n",
       "      <td>3</td>\n",
       "      <td>4.413838</td>\n",
       "    </tr>\n",
       "    <tr>\n",
       "      <th>2016-01-03 04:00:00</th>\n",
       "      <td>8.0</td>\n",
       "      <td>1075</td>\n",
       "      <td>8.0</td>\n",
       "      <td>10.0</td>\n",
       "      <td>21.0</td>\n",
       "      <td>51.0</td>\n",
       "      <td>48.0</td>\n",
       "      <td>53.0</td>\n",
       "      <td>59.0</td>\n",
       "      <td>47.0</td>\n",
       "      <td>...</td>\n",
       "      <td>78.0</td>\n",
       "      <td>120.0</td>\n",
       "      <td>142.0</td>\n",
       "      <td>6.0</td>\n",
       "      <td>24.0</td>\n",
       "      <td>1</td>\n",
       "      <td>3</td>\n",
       "      <td>6</td>\n",
       "      <td>4</td>\n",
       "      <td>-0.667620</td>\n",
       "    </tr>\n",
       "  </tbody>\n",
       "</table>\n",
       "<p>5 rows × 21 columns</p>\n",
       "</div>"
      ],
      "text/plain": [
       "                      y_t   reg  y_t_1  y_t_2  y_t_3  y_t_4  y_t_5  y_t_6  \\\n",
       "time                                                                        \n",
       "2016-01-03 00:00:00  51.0  1075   48.0   53.0   59.0   47.0   54.0   78.0   \n",
       "2016-01-03 01:00:00  21.0  1075   51.0   48.0   53.0   59.0   47.0   54.0   \n",
       "2016-01-03 02:00:00  10.0  1075   21.0   51.0   48.0   53.0   59.0   47.0   \n",
       "2016-01-03 03:00:00   8.0  1075   10.0   21.0   51.0   48.0   53.0   59.0   \n",
       "2016-01-03 04:00:00   8.0  1075    8.0   10.0   21.0   51.0   48.0   53.0   \n",
       "\n",
       "                     y_t_7  y_t_8  ...  y_t_10  y_t_11  y_t_12  y_day_1  \\\n",
       "time                               ...                                    \n",
       "2016-01-03 00:00:00  120.0  142.0  ...   105.0   163.0   133.0     24.0   \n",
       "2016-01-03 01:00:00   78.0  120.0  ...   125.0   105.0   163.0      9.0   \n",
       "2016-01-03 02:00:00   54.0   78.0  ...   142.0   125.0   105.0     11.0   \n",
       "2016-01-03 03:00:00   47.0   54.0  ...   120.0   142.0   125.0      5.0   \n",
       "2016-01-03 04:00:00   59.0   47.0  ...    78.0   120.0   142.0      6.0   \n",
       "\n",
       "                     y_day_2  month  day  weekday  hour      sarma  \n",
       "time                                                                \n",
       "2016-01-03 00:00:00     80.0      1    3        6     0  42.987883  \n",
       "2016-01-03 01:00:00     91.0      1    3        6     1  22.461648  \n",
       "2016-01-03 02:00:00     90.0      1    3        6     2   7.118372  \n",
       "2016-01-03 03:00:00     32.0      1    3        6     3   4.413838  \n",
       "2016-01-03 04:00:00     24.0      1    3        6     4  -0.667620  \n",
       "\n",
       "[5 rows x 21 columns]"
      ]
     },
     "execution_count": 167,
     "metadata": {},
     "output_type": "execute_result"
    }
   ],
   "source": [
    "X_train.head(5)"
   ]
  },
  {
   "cell_type": "markdown",
   "metadata": {},
   "source": [
    "Обучим модель из модуля lightgbm со стандартными параметрами и выведем значение метрики на валидационном датасете:"
   ]
  },
  {
   "cell_type": "code",
   "execution_count": 70,
   "metadata": {},
   "outputs": [
    {
     "name": "stdout",
     "output_type": "stream",
     "text": [
      "18.371228410176638\n",
      "Wall time: 997 ms\n"
     ]
    }
   ],
   "source": [
    "%%time\n",
    "lgb_model_1 = lgb.LGBMRegressor(random_state=12)\n",
    "lgb_model_1.fit(X_train, y_train['y1'])\n",
    "pred_1_lgb = lgb_model_1.predict(X_val)\n",
    "print(mae(y_val['y1'], pred_1_lgb))"
   ]
  },
  {
   "cell_type": "markdown",
   "metadata": {},
   "source": [
    "Попробуем настроить гиперпараметры с помощью модуля hyperopt. "
   ]
  },
  {
   "cell_type": "code",
   "execution_count": 53,
   "metadata": {},
   "outputs": [],
   "source": [
    "space={'max_depth': hp.choice('max_depth',\n",
    "            [8, 9, 10]),\n",
    "       'num_leaves': hp.quniform(\"num_leaves\", 255, 1023, 128),\n",
    "       'reg_alpha' : hp.quniform('reg_alpha', 50,120,5),\n",
    "       'learning_rate' : hp.choice('learning_rate', [0.01, 0.05, 0.1]),\n",
    "       'min_data_in_leaf': hp.quniform(\"min_data_in_leaf\", 20, 80, 10),\n",
    "       'n_estimators': hp.quniform(\"n_estimators\", 100, 550, 50)\n",
    "    }"
   ]
  },
  {
   "cell_type": "code",
   "execution_count": 90,
   "metadata": {},
   "outputs": [],
   "source": [
    "def objective(space):\n",
    "    \n",
    "    params = {\n",
    "    \"objective\": \"regression\",\n",
    "    \"metric\": \"mae\",\n",
    "    \"boosting\": 'gbdt',\n",
    "    \"max_depth\": space['max_depth'],  \n",
    "    \"num_leaves\": int(space['num_leaves']),\n",
    "    \"n_estimators\": int(space['n_estimators']),\n",
    "    \"learning_rate\": space['learning_rate'],\n",
    "    \"min_data_in_leaf\": int(space['min_data_in_leaf']),\n",
    "    'reg_alpha': int(space['min_data_in_leaf']),\n",
    "    \"boost_from_average\": \"false\",\n",
    "    \"bagging_seed\": 12\n",
    "}\n",
    "    train_data = lgb.Dataset(X_train, label=y_train['y3'], categorical_feature=['reg', 'weekday'], free_raw_data=False)\n",
    "    valid_data = lgb.Dataset(X_val, label=y_val['y3'], categorical_feature=['reg', 'weekday'], free_raw_data=False, reference=train_data)\n",
    "    \n",
    "    reg = lgb.train(params,\n",
    "                    train_data,\n",
    "                    valid_sets=[valid_data],\n",
    "                    valid_names=['train', 'test'],\n",
    "                    num_boost_round=200,\n",
    "                    early_stopping_rounds=10,\n",
    "                    verbose_eval=False)\n",
    "    \n",
    "    pred = reg.predict(X_val, num_iteration=reg.best_iteration)\n",
    "    mae_pred = mae(y_val['y1'],pred)\n",
    "#     print('md:{}\\tlr:{}\\tleavs:{}\\ttest:{}\\tmd:{}\\treg:{}'.format(params['max_depth'],params['learning_rate'],params['num_leaves'], params['n_estimators'],\n",
    "#                                                                                   params['min_data_in_leaf'],params['reg_alpha']))\n",
    "    print (\"SCORE:\", mae_pred)\n",
    "    return {'loss': mae_pred, 'status': STATUS_OK}"
   ]
  },
  {
   "cell_type": "code",
   "execution_count": null,
   "metadata": {},
   "outputs": [],
   "source": [
    "%%time\n",
    "trials = Trials()\n",
    "best_hyperparams = fmin(fn = objective,\n",
    "                        space = space,\n",
    "                        algo = tpe.suggest,\n",
    "                        max_evals = 200,\n",
    "                        trials = trials)"
   ]
  },
  {
   "cell_type": "code",
   "execution_count": 55,
   "metadata": {},
   "outputs": [
    {
     "name": "stdout",
     "output_type": "stream",
     "text": [
      "{'colsample_bytree': 0.9600407678024615, 'learning_rate': 2, 'max_depth': 2, 'min_data_in_leaf': 20.0, 'n_estimators': 275.0, 'num_leaves': 512.0, 'reg_alpha': 65.0, 'subsample': 0.7460813223006195}\n"
     ]
    }
   ],
   "source": [
    "print(best_hyperparams) #y1 14.839389075928946"
   ]
  },
  {
   "cell_type": "markdown",
   "metadata": {},
   "source": [
    "## Парметры подбирались для каждой из 6 моделей. По заданию следующей недели предстоит переобучать модели, добирая новые признаки, заново подбирать параметры модели, поэтому грубо подберем параметры, которые показывают неплохое качество. На валидационном и на тестовом датасете метрики улучшились, немного лучше стала ситуация с метрикой по сравнению с прошлой неделей. Придобавлении дополнительных признаков качество может улучшиться сильнее."
   ]
  },
  {
   "cell_type": "code",
   "execution_count": 11,
   "metadata": {},
   "outputs": [],
   "source": [
    "params = {'colsample_bytree': 0.9,\n",
    "             'learning_rate': 0.1,\n",
    "             'max_depth': 10,\n",
    "             'n_estimators': 500,\n",
    "             'num_leaves': 1023,\n",
    "             'reg_alpha': 105}"
   ]
  },
  {
   "cell_type": "markdown",
   "metadata": {},
   "source": [
    "Завернем построение 6 моделей в единную функцию:"
   ]
  },
  {
   "cell_type": "code",
   "execution_count": 8,
   "metadata": {},
   "outputs": [],
   "source": [
    "def lgb_reg_main(data, params):\n",
    "    X_train, X_val, X_test, y_train, y_val, y_test = data[0], data[1], data[2], data[3], data[4], data[5]\n",
    "    y_list = ['y1', 'y2', 'y3', 'y4', 'y5', 'y6']\n",
    "    \n",
    "    may_pred, june_pred = pd.DataFrame([]), pd.DataFrame([])\n",
    "    \n",
    "    for y in y_list:\n",
    "        \n",
    "        train_data = lgb.Dataset(X_train, label=y_train[y], categorical_feature=['reg', 'weekday'], free_raw_data=False)\n",
    "        valid_data = lgb.Dataset(X_val, label=y_val[y], categorical_feature=['reg', 'weekday'], free_raw_data=False, reference=train_data)\n",
    "        \n",
    "        reg = lgb.train(params, train_data, num_boost_round=200, verbose_eval=False)\n",
    "        \n",
    "        may_pred[y] = reg.predict(X_val, num_iteration=reg.best_iteration)\n",
    "        june_pred[y] = reg.predict(X_test, num_iteration=reg.best_iteration)\n",
    "        \n",
    "        print(y, '\\tmay: ', mae(y_val[y], may_pred[y]),'\\tjune: ', mae(y_test[y], june_pred[y]))\n",
    "        \n",
    "    return may_pred, june_pred"
   ]
  },
  {
   "cell_type": "code",
   "execution_count": 12,
   "metadata": {},
   "outputs": [
    {
     "name": "stdout",
     "output_type": "stream",
     "text": [
      "y1 \tmay:  14.76065476966099 \tjune:  15.667617271227474\n",
      "y2 \tmay:  17.474766909020246 \tjune:  18.42574613591572\n",
      "y3 \tmay:  18.761661034979536 \tjune:  19.816054417686086\n",
      "y4 \tmay:  19.448108500940517 \tjune:  20.439915402991858\n",
      "y5 \tmay:  20.080313891873793 \tjune:  21.10107872726783\n",
      "y6 \tmay:  20.261467918422014 \tjune:  21.352765237411234\n",
      "Wall time: 1min 6s\n"
     ]
    }
   ],
   "source": [
    "%%time\n",
    "may, june = lgb_reg_main((X_train, X_val, X_test, y_train, y_val, y_test), params)"
   ]
  },
  {
   "cell_type": "code",
   "execution_count": 30,
   "metadata": {},
   "outputs": [
    {
     "data": {
      "text/html": [
       "<div>\n",
       "<style scoped>\n",
       "    .dataframe tbody tr th:only-of-type {\n",
       "        vertical-align: middle;\n",
       "    }\n",
       "\n",
       "    .dataframe tbody tr th {\n",
       "        vertical-align: top;\n",
       "    }\n",
       "\n",
       "    .dataframe thead th {\n",
       "        text-align: right;\n",
       "    }\n",
       "</style>\n",
       "<table border=\"1\" class=\"dataframe\">\n",
       "  <thead>\n",
       "    <tr style=\"text-align: right;\">\n",
       "      <th></th>\n",
       "      <th>y1</th>\n",
       "      <th>y2</th>\n",
       "      <th>y3</th>\n",
       "      <th>y4</th>\n",
       "      <th>y5</th>\n",
       "      <th>y6</th>\n",
       "    </tr>\n",
       "  </thead>\n",
       "  <tbody>\n",
       "    <tr>\n",
       "      <th>0</th>\n",
       "      <td>67.459085</td>\n",
       "      <td>36.355163</td>\n",
       "      <td>19.878530</td>\n",
       "      <td>13.611407</td>\n",
       "      <td>17.821228</td>\n",
       "      <td>8.426156</td>\n",
       "    </tr>\n",
       "    <tr>\n",
       "      <th>1</th>\n",
       "      <td>47.509419</td>\n",
       "      <td>25.361982</td>\n",
       "      <td>18.817343</td>\n",
       "      <td>4.977813</td>\n",
       "      <td>1.293931</td>\n",
       "      <td>9.554429</td>\n",
       "    </tr>\n",
       "    <tr>\n",
       "      <th>2</th>\n",
       "      <td>26.322448</td>\n",
       "      <td>13.937088</td>\n",
       "      <td>6.633723</td>\n",
       "      <td>6.294877</td>\n",
       "      <td>9.297331</td>\n",
       "      <td>16.115791</td>\n",
       "    </tr>\n",
       "    <tr>\n",
       "      <th>3</th>\n",
       "      <td>10.362531</td>\n",
       "      <td>4.484950</td>\n",
       "      <td>8.398418</td>\n",
       "      <td>8.500697</td>\n",
       "      <td>5.249967</td>\n",
       "      <td>24.048778</td>\n",
       "    </tr>\n",
       "    <tr>\n",
       "      <th>4</th>\n",
       "      <td>10.599710</td>\n",
       "      <td>6.040945</td>\n",
       "      <td>14.703171</td>\n",
       "      <td>8.471062</td>\n",
       "      <td>21.403463</td>\n",
       "      <td>38.718616</td>\n",
       "    </tr>\n",
       "  </tbody>\n",
       "</table>\n",
       "</div>"
      ],
      "text/plain": [
       "          y1         y2         y3         y4         y5         y6\n",
       "0  67.459085  36.355163  19.878530  13.611407  17.821228   8.426156\n",
       "1  47.509419  25.361982  18.817343   4.977813   1.293931   9.554429\n",
       "2  26.322448  13.937088   6.633723   6.294877   9.297331  16.115791\n",
       "3  10.362531   4.484950   8.398418   8.500697   5.249967  24.048778\n",
       "4  10.599710   6.040945  14.703171   8.471062  21.403463  38.718616"
      ]
     },
     "execution_count": 30,
     "metadata": {},
     "output_type": "execute_result"
    }
   ],
   "source": [
    "may.head()"
   ]
  },
  {
   "cell_type": "code",
   "execution_count": 22,
   "metadata": {},
   "outputs": [],
   "source": [
    "sum1 = np.sum(np.abs(y_val['y1'].values - may['y1'].values))\n",
    "sum2 = np.sum(np.abs(y_val['y2'].values - may['y2'].values))\n",
    "sum3 = np.sum(np.abs(y_val['y3'].values - may['y3'].values))\n",
    "sum4 = np.sum(np.abs(y_val['y4'].values - may['y4'].values))\n",
    "sum5 = np.sum(np.abs(y_val['y5'].values - may['y5'].values))\n",
    "sum6 = np.sum(np.abs(y_val['y6'].values - may['y6'].values))"
   ]
  },
  {
   "cell_type": "code",
   "execution_count": 23,
   "metadata": {},
   "outputs": [],
   "source": [
    "Q_may = (sum1+sum2+sum3+sum4+sum5+sum6)/(6*739*102)"
   ]
  },
  {
   "cell_type": "code",
   "execution_count": 24,
   "metadata": {},
   "outputs": [
    {
     "data": {
      "text/plain": [
       "18.464495504149514"
      ]
     },
     "execution_count": 24,
     "metadata": {},
     "output_type": "execute_result"
    }
   ],
   "source": [
    "Q_may"
   ]
  },
  {
   "cell_type": "code",
   "execution_count": 26,
   "metadata": {},
   "outputs": [],
   "source": [
    "sum1 = np.sum(np.abs(y_test['y1'].values - june['y1'].values))\n",
    "sum2 = np.sum(np.abs(y_test['y2'].values - june['y2'].values))\n",
    "sum3 = np.sum(np.abs(y_test['y3'].values - june['y3'].values))\n",
    "sum4 = np.sum(np.abs(y_test['y4'].values - june['y4'].values))\n",
    "sum5 = np.sum(np.abs(y_test['y5'].values - june['y5'].values))\n",
    "sum6 = np.sum(np.abs(y_test['y6'].values - june['y6'].values))"
   ]
  },
  {
   "cell_type": "code",
   "execution_count": 27,
   "metadata": {},
   "outputs": [],
   "source": [
    "Q_june = (sum1+sum2+sum3+sum4+sum5+sum6)/(6*715*102)"
   ]
  },
  {
   "cell_type": "code",
   "execution_count": 28,
   "metadata": {},
   "outputs": [
    {
     "data": {
      "text/plain": [
       "19.467196198750035"
      ]
     },
     "execution_count": 28,
     "metadata": {},
     "output_type": "execute_result"
    }
   ],
   "source": [
    "Q_june"
   ]
  },
  {
   "cell_type": "code",
   "execution_count": 164,
   "metadata": {},
   "outputs": [
    {
     "data": {
      "text/html": [
       "<div>\n",
       "<style scoped>\n",
       "    .dataframe tbody tr th:only-of-type {\n",
       "        vertical-align: middle;\n",
       "    }\n",
       "\n",
       "    .dataframe tbody tr th {\n",
       "        vertical-align: top;\n",
       "    }\n",
       "\n",
       "    .dataframe thead th {\n",
       "        text-align: right;\n",
       "    }\n",
       "</style>\n",
       "<table border=\"1\" class=\"dataframe\">\n",
       "  <thead>\n",
       "    <tr style=\"text-align: right;\">\n",
       "      <th></th>\n",
       "      <th>y1</th>\n",
       "      <th>y2</th>\n",
       "      <th>y3</th>\n",
       "      <th>y4</th>\n",
       "      <th>y5</th>\n",
       "      <th>y6</th>\n",
       "    </tr>\n",
       "  </thead>\n",
       "  <tbody>\n",
       "    <tr>\n",
       "      <th>0</th>\n",
       "      <td>28.549688</td>\n",
       "      <td>14.576881</td>\n",
       "      <td>12.296896</td>\n",
       "      <td>5.262460</td>\n",
       "      <td>1.749279</td>\n",
       "      <td>10.766794</td>\n",
       "    </tr>\n",
       "    <tr>\n",
       "      <th>1</th>\n",
       "      <td>13.776458</td>\n",
       "      <td>6.612480</td>\n",
       "      <td>3.806291</td>\n",
       "      <td>1.197096</td>\n",
       "      <td>8.035851</td>\n",
       "      <td>24.401427</td>\n",
       "    </tr>\n",
       "    <tr>\n",
       "      <th>2</th>\n",
       "      <td>6.309530</td>\n",
       "      <td>2.882693</td>\n",
       "      <td>1.728813</td>\n",
       "      <td>5.854059</td>\n",
       "      <td>24.905855</td>\n",
       "      <td>46.499077</td>\n",
       "    </tr>\n",
       "    <tr>\n",
       "      <th>3</th>\n",
       "      <td>4.026374</td>\n",
       "      <td>3.416346</td>\n",
       "      <td>7.450983</td>\n",
       "      <td>17.491150</td>\n",
       "      <td>58.489699</td>\n",
       "      <td>81.503200</td>\n",
       "    </tr>\n",
       "    <tr>\n",
       "      <th>4</th>\n",
       "      <td>3.271062</td>\n",
       "      <td>8.307930</td>\n",
       "      <td>21.992971</td>\n",
       "      <td>48.073687</td>\n",
       "      <td>80.868579</td>\n",
       "      <td>71.356664</td>\n",
       "    </tr>\n",
       "  </tbody>\n",
       "</table>\n",
       "</div>"
      ],
      "text/plain": [
       "          y1         y2         y3         y4         y5         y6\n",
       "0  28.549688  14.576881  12.296896   5.262460   1.749279  10.766794\n",
       "1  13.776458   6.612480   3.806291   1.197096   8.035851  24.401427\n",
       "2   6.309530   2.882693   1.728813   5.854059  24.905855  46.499077\n",
       "3   4.026374   3.416346   7.450983  17.491150  58.489699  81.503200\n",
       "4   3.271062   8.307930  21.992971  48.073687  80.868579  71.356664"
      ]
     },
     "execution_count": 164,
     "metadata": {},
     "output_type": "execute_result"
    }
   ],
   "source": [
    "june.head()"
   ]
  },
  {
   "cell_type": "markdown",
   "metadata": {},
   "source": [
    "По строкам у нас расположены концы истории, а по столбцам значения 6 моделей. Таким образом, чтобы получить значения в необходимо виде для сабмишена, нужно просто развернуть датасет в вектор."
   ]
  },
  {
   "cell_type": "code",
   "execution_count": 165,
   "metadata": {},
   "outputs": [
    {
     "data": {
      "text/plain": [
       "array([28.54968794, 14.57688075, 12.29689566, ..., 29.83118168,\n",
       "       42.8449099 , 33.0657082 ])"
      ]
     },
     "execution_count": 165,
     "metadata": {},
     "output_type": "execute_result"
    }
   ],
   "source": [
    "june.to_numpy().reshape(june.shape[0]*june.shape[1])"
   ]
  },
  {
   "cell_type": "markdown",
   "metadata": {},
   "source": [
    "Используя значения индекса и номера региона из X_test, запишем колонку id."
   ]
  },
  {
   "cell_type": "code",
   "execution_count": 131,
   "metadata": {},
   "outputs": [],
   "source": [
    "temp = X_test[['reg']]\n",
    "temp['time'] = temp.index\n",
    "temp['id'] = temp['reg'].astype(str) + '_' + temp['time'].str[:10]+'_'+temp['time'].str[11:13]\n",
    "ids = temp['id'].to_list()"
   ]
  },
  {
   "cell_type": "code",
   "execution_count": 149,
   "metadata": {},
   "outputs": [],
   "source": [
    "fin_id = []\n",
    "for i in ids:\n",
    "    new_id = i[:16]\n",
    "    if i[16:].startswith('0'):\n",
    "        _ = i[17:]\n",
    "    else:\n",
    "        _ = i[16:]\n",
    "    new_id = new_id + _\n",
    "    \n",
    "    for j in range(1, 7):\n",
    "        fin_id.append(new_id+'_'+str(j))"
   ]
  },
  {
   "cell_type": "code",
   "execution_count": 169,
   "metadata": {},
   "outputs": [
    {
     "data": {
      "text/plain": [
       "['1075_2016-05-31_23_1',\n",
       " '1075_2016-05-31_23_2',\n",
       " '1075_2016-05-31_23_3',\n",
       " '1075_2016-05-31_23_4',\n",
       " '1075_2016-05-31_23_5',\n",
       " '1075_2016-05-31_23_6',\n",
       " '1075_2016-06-01_0_1']"
      ]
     },
     "execution_count": 169,
     "metadata": {},
     "output_type": "execute_result"
    }
   ],
   "source": [
    "fin_id[:7]"
   ]
  },
  {
   "cell_type": "code",
   "execution_count": 158,
   "metadata": {},
   "outputs": [
    {
     "data": {
      "text/plain": [
       "437580"
      ]
     },
     "execution_count": 158,
     "metadata": {},
     "output_type": "execute_result"
    }
   ],
   "source": [
    "len(fin_id)"
   ]
  },
  {
   "cell_type": "code",
   "execution_count": 162,
   "metadata": {},
   "outputs": [],
   "source": [
    "submissions1 = pd.DataFrame({'id': fin_id, 'y': june.to_numpy().reshape(june.shape[0]*june.shape[1])})"
   ]
  },
  {
   "cell_type": "code",
   "execution_count": 163,
   "metadata": {},
   "outputs": [
    {
     "data": {
      "text/html": [
       "<div>\n",
       "<style scoped>\n",
       "    .dataframe tbody tr th:only-of-type {\n",
       "        vertical-align: middle;\n",
       "    }\n",
       "\n",
       "    .dataframe tbody tr th {\n",
       "        vertical-align: top;\n",
       "    }\n",
       "\n",
       "    .dataframe thead th {\n",
       "        text-align: right;\n",
       "    }\n",
       "</style>\n",
       "<table border=\"1\" class=\"dataframe\">\n",
       "  <thead>\n",
       "    <tr style=\"text-align: right;\">\n",
       "      <th></th>\n",
       "      <th>id</th>\n",
       "      <th>y</th>\n",
       "    </tr>\n",
       "  </thead>\n",
       "  <tbody>\n",
       "    <tr>\n",
       "      <th>0</th>\n",
       "      <td>1075_2016-05-31_23_1</td>\n",
       "      <td>28.549688</td>\n",
       "    </tr>\n",
       "    <tr>\n",
       "      <th>1</th>\n",
       "      <td>1075_2016-05-31_23_2</td>\n",
       "      <td>14.576881</td>\n",
       "    </tr>\n",
       "    <tr>\n",
       "      <th>2</th>\n",
       "      <td>1075_2016-05-31_23_3</td>\n",
       "      <td>12.296896</td>\n",
       "    </tr>\n",
       "    <tr>\n",
       "      <th>3</th>\n",
       "      <td>1075_2016-05-31_23_4</td>\n",
       "      <td>5.262460</td>\n",
       "    </tr>\n",
       "    <tr>\n",
       "      <th>4</th>\n",
       "      <td>1075_2016-05-31_23_5</td>\n",
       "      <td>1.749279</td>\n",
       "    </tr>\n",
       "    <tr>\n",
       "      <th>...</th>\n",
       "      <td>...</td>\n",
       "      <td>...</td>\n",
       "    </tr>\n",
       "    <tr>\n",
       "      <th>437575</th>\n",
       "      <td>2168_2016-06-30_17_2</td>\n",
       "      <td>34.163737</td>\n",
       "    </tr>\n",
       "    <tr>\n",
       "      <th>437576</th>\n",
       "      <td>2168_2016-06-30_17_3</td>\n",
       "      <td>48.087244</td>\n",
       "    </tr>\n",
       "    <tr>\n",
       "      <th>437577</th>\n",
       "      <td>2168_2016-06-30_17_4</td>\n",
       "      <td>29.831182</td>\n",
       "    </tr>\n",
       "    <tr>\n",
       "      <th>437578</th>\n",
       "      <td>2168_2016-06-30_17_5</td>\n",
       "      <td>42.844910</td>\n",
       "    </tr>\n",
       "    <tr>\n",
       "      <th>437579</th>\n",
       "      <td>2168_2016-06-30_17_6</td>\n",
       "      <td>33.065708</td>\n",
       "    </tr>\n",
       "  </tbody>\n",
       "</table>\n",
       "<p>437580 rows × 2 columns</p>\n",
       "</div>"
      ],
      "text/plain": [
       "                          id          y\n",
       "0       1075_2016-05-31_23_1  28.549688\n",
       "1       1075_2016-05-31_23_2  14.576881\n",
       "2       1075_2016-05-31_23_3  12.296896\n",
       "3       1075_2016-05-31_23_4   5.262460\n",
       "4       1075_2016-05-31_23_5   1.749279\n",
       "...                      ...        ...\n",
       "437575  2168_2016-06-30_17_2  34.163737\n",
       "437576  2168_2016-06-30_17_3  48.087244\n",
       "437577  2168_2016-06-30_17_4  29.831182\n",
       "437578  2168_2016-06-30_17_5  42.844910\n",
       "437579  2168_2016-06-30_17_6  33.065708\n",
       "\n",
       "[437580 rows x 2 columns]"
      ]
     },
     "execution_count": 163,
     "metadata": {},
     "output_type": "execute_result"
    }
   ],
   "source": [
    "submissions1"
   ]
  },
  {
   "cell_type": "code",
   "execution_count": 166,
   "metadata": {},
   "outputs": [],
   "source": [
    "submissions1.to_csv('submissions1.csv', index=False)"
   ]
  },
  {
   "cell_type": "code",
   "execution_count": 43,
   "metadata": {},
   "outputs": [
    {
     "data": {
      "text/html": [
       "<div>\n",
       "<style scoped>\n",
       "    .dataframe tbody tr th:only-of-type {\n",
       "        vertical-align: middle;\n",
       "    }\n",
       "\n",
       "    .dataframe tbody tr th {\n",
       "        vertical-align: top;\n",
       "    }\n",
       "\n",
       "    .dataframe thead th {\n",
       "        text-align: right;\n",
       "    }\n",
       "</style>\n",
       "<table border=\"1\" class=\"dataframe\">\n",
       "  <thead>\n",
       "    <tr style=\"text-align: right;\">\n",
       "      <th></th>\n",
       "      <th>y1</th>\n",
       "      <th>y2</th>\n",
       "      <th>y3</th>\n",
       "      <th>y4</th>\n",
       "      <th>y5</th>\n",
       "      <th>y6</th>\n",
       "      <th>y1_t</th>\n",
       "      <th>y2_t</th>\n",
       "      <th>y3_t</th>\n",
       "      <th>y4_t</th>\n",
       "      <th>y5_t</th>\n",
       "      <th>y6_t</th>\n",
       "    </tr>\n",
       "  </thead>\n",
       "  <tbody>\n",
       "    <tr>\n",
       "      <th>0</th>\n",
       "      <td>28.549688</td>\n",
       "      <td>14.576881</td>\n",
       "      <td>12.296896</td>\n",
       "      <td>5.262460</td>\n",
       "      <td>1.749279</td>\n",
       "      <td>10.766794</td>\n",
       "      <td>26.0</td>\n",
       "      <td>14.0</td>\n",
       "      <td>5.0</td>\n",
       "      <td>2.0</td>\n",
       "      <td>1.0</td>\n",
       "      <td>7.0</td>\n",
       "    </tr>\n",
       "    <tr>\n",
       "      <th>1</th>\n",
       "      <td>13.776458</td>\n",
       "      <td>6.612480</td>\n",
       "      <td>3.806291</td>\n",
       "      <td>1.197096</td>\n",
       "      <td>8.035851</td>\n",
       "      <td>24.401427</td>\n",
       "      <td>14.0</td>\n",
       "      <td>5.0</td>\n",
       "      <td>2.0</td>\n",
       "      <td>1.0</td>\n",
       "      <td>7.0</td>\n",
       "      <td>23.0</td>\n",
       "    </tr>\n",
       "    <tr>\n",
       "      <th>2</th>\n",
       "      <td>6.309530</td>\n",
       "      <td>2.882693</td>\n",
       "      <td>1.728813</td>\n",
       "      <td>5.854059</td>\n",
       "      <td>24.905855</td>\n",
       "      <td>46.499077</td>\n",
       "      <td>5.0</td>\n",
       "      <td>2.0</td>\n",
       "      <td>1.0</td>\n",
       "      <td>7.0</td>\n",
       "      <td>23.0</td>\n",
       "      <td>34.0</td>\n",
       "    </tr>\n",
       "    <tr>\n",
       "      <th>3</th>\n",
       "      <td>4.026374</td>\n",
       "      <td>3.416346</td>\n",
       "      <td>7.450983</td>\n",
       "      <td>17.491150</td>\n",
       "      <td>58.489699</td>\n",
       "      <td>81.503200</td>\n",
       "      <td>2.0</td>\n",
       "      <td>1.0</td>\n",
       "      <td>7.0</td>\n",
       "      <td>23.0</td>\n",
       "      <td>34.0</td>\n",
       "      <td>72.0</td>\n",
       "    </tr>\n",
       "    <tr>\n",
       "      <th>4</th>\n",
       "      <td>3.271062</td>\n",
       "      <td>8.307930</td>\n",
       "      <td>21.992971</td>\n",
       "      <td>48.073687</td>\n",
       "      <td>80.868579</td>\n",
       "      <td>71.356664</td>\n",
       "      <td>1.0</td>\n",
       "      <td>7.0</td>\n",
       "      <td>23.0</td>\n",
       "      <td>34.0</td>\n",
       "      <td>72.0</td>\n",
       "      <td>54.0</td>\n",
       "    </tr>\n",
       "    <tr>\n",
       "      <th>...</th>\n",
       "      <td>...</td>\n",
       "      <td>...</td>\n",
       "      <td>...</td>\n",
       "      <td>...</td>\n",
       "      <td>...</td>\n",
       "      <td>...</td>\n",
       "      <td>...</td>\n",
       "      <td>...</td>\n",
       "      <td>...</td>\n",
       "      <td>...</td>\n",
       "      <td>...</td>\n",
       "      <td>...</td>\n",
       "    </tr>\n",
       "    <tr>\n",
       "      <th>72925</th>\n",
       "      <td>20.048231</td>\n",
       "      <td>23.870242</td>\n",
       "      <td>28.634994</td>\n",
       "      <td>19.293549</td>\n",
       "      <td>36.202549</td>\n",
       "      <td>59.082417</td>\n",
       "      <td>0.0</td>\n",
       "      <td>0.0</td>\n",
       "      <td>2.0</td>\n",
       "      <td>1.0</td>\n",
       "      <td>1.0</td>\n",
       "      <td>1.0</td>\n",
       "    </tr>\n",
       "    <tr>\n",
       "      <th>72926</th>\n",
       "      <td>15.855099</td>\n",
       "      <td>18.839941</td>\n",
       "      <td>32.464762</td>\n",
       "      <td>11.874835</td>\n",
       "      <td>43.812283</td>\n",
       "      <td>66.966259</td>\n",
       "      <td>0.0</td>\n",
       "      <td>2.0</td>\n",
       "      <td>1.0</td>\n",
       "      <td>1.0</td>\n",
       "      <td>1.0</td>\n",
       "      <td>0.0</td>\n",
       "    </tr>\n",
       "    <tr>\n",
       "      <th>72927</th>\n",
       "      <td>14.459717</td>\n",
       "      <td>22.779398</td>\n",
       "      <td>36.860066</td>\n",
       "      <td>24.997923</td>\n",
       "      <td>45.751712</td>\n",
       "      <td>53.613946</td>\n",
       "      <td>2.0</td>\n",
       "      <td>1.0</td>\n",
       "      <td>1.0</td>\n",
       "      <td>1.0</td>\n",
       "      <td>0.0</td>\n",
       "      <td>1.0</td>\n",
       "    </tr>\n",
       "    <tr>\n",
       "      <th>72928</th>\n",
       "      <td>18.284217</td>\n",
       "      <td>30.799952</td>\n",
       "      <td>46.939870</td>\n",
       "      <td>25.268603</td>\n",
       "      <td>40.472120</td>\n",
       "      <td>53.917737</td>\n",
       "      <td>1.0</td>\n",
       "      <td>1.0</td>\n",
       "      <td>1.0</td>\n",
       "      <td>0.0</td>\n",
       "      <td>1.0</td>\n",
       "      <td>0.0</td>\n",
       "    </tr>\n",
       "    <tr>\n",
       "      <th>72929</th>\n",
       "      <td>19.708936</td>\n",
       "      <td>34.163737</td>\n",
       "      <td>48.087244</td>\n",
       "      <td>29.831182</td>\n",
       "      <td>42.844910</td>\n",
       "      <td>33.065708</td>\n",
       "      <td>1.0</td>\n",
       "      <td>1.0</td>\n",
       "      <td>0.0</td>\n",
       "      <td>1.0</td>\n",
       "      <td>0.0</td>\n",
       "      <td>0.0</td>\n",
       "    </tr>\n",
       "  </tbody>\n",
       "</table>\n",
       "<p>72930 rows × 12 columns</p>\n",
       "</div>"
      ],
      "text/plain": [
       "              y1         y2         y3         y4         y5         y6  y1_t  \\\n",
       "0      28.549688  14.576881  12.296896   5.262460   1.749279  10.766794  26.0   \n",
       "1      13.776458   6.612480   3.806291   1.197096   8.035851  24.401427  14.0   \n",
       "2       6.309530   2.882693   1.728813   5.854059  24.905855  46.499077   5.0   \n",
       "3       4.026374   3.416346   7.450983  17.491150  58.489699  81.503200   2.0   \n",
       "4       3.271062   8.307930  21.992971  48.073687  80.868579  71.356664   1.0   \n",
       "...          ...        ...        ...        ...        ...        ...   ...   \n",
       "72925  20.048231  23.870242  28.634994  19.293549  36.202549  59.082417   0.0   \n",
       "72926  15.855099  18.839941  32.464762  11.874835  43.812283  66.966259   0.0   \n",
       "72927  14.459717  22.779398  36.860066  24.997923  45.751712  53.613946   2.0   \n",
       "72928  18.284217  30.799952  46.939870  25.268603  40.472120  53.917737   1.0   \n",
       "72929  19.708936  34.163737  48.087244  29.831182  42.844910  33.065708   1.0   \n",
       "\n",
       "       y2_t  y3_t  y4_t  y5_t  y6_t  \n",
       "0      14.0   5.0   2.0   1.0   7.0  \n",
       "1       5.0   2.0   1.0   7.0  23.0  \n",
       "2       2.0   1.0   7.0  23.0  34.0  \n",
       "3       1.0   7.0  23.0  34.0  72.0  \n",
       "4       7.0  23.0  34.0  72.0  54.0  \n",
       "...     ...   ...   ...   ...   ...  \n",
       "72925   0.0   2.0   1.0   1.0   1.0  \n",
       "72926   2.0   1.0   1.0   1.0   0.0  \n",
       "72927   1.0   1.0   1.0   0.0   1.0  \n",
       "72928   1.0   1.0   0.0   1.0   0.0  \n",
       "72929   1.0   0.0   1.0   0.0   0.0  \n",
       "\n",
       "[72930 rows x 12 columns]"
      ]
     },
     "execution_count": 43,
     "metadata": {},
     "output_type": "execute_result"
    }
   ],
   "source": [
    "june"
   ]
  },
  {
   "cell_type": "code",
   "execution_count": 44,
   "metadata": {},
   "outputs": [],
   "source": [
    "june['reg'] = X_test['reg'].values"
   ]
  },
  {
   "cell_type": "code",
   "execution_count": 46,
   "metadata": {},
   "outputs": [],
   "source": [
    "june.to_csv('data_june.csv', index=False)"
   ]
  },
  {
   "cell_type": "markdown",
   "metadata": {},
   "source": [
    "### X_test"
   ]
  },
  {
   "cell_type": "code",
   "execution_count": 50,
   "metadata": {},
   "outputs": [],
   "source": [
    "june.index = X_test.index"
   ]
  },
  {
   "cell_type": "code",
   "execution_count": 52,
   "metadata": {},
   "outputs": [],
   "source": [
    "june.to_csv('data_june.csv', index=True)"
   ]
  }
 ],
 "metadata": {
  "kernelspec": {
   "display_name": "Python 3",
   "language": "python",
   "name": "python3"
  },
  "language_info": {
   "codemirror_mode": {
    "name": "ipython",
    "version": 3
   },
   "file_extension": ".py",
   "mimetype": "text/x-python",
   "name": "python",
   "nbconvert_exporter": "python",
   "pygments_lexer": "ipython3",
   "version": "3.8.8"
  }
 },
 "nbformat": 4,
 "nbformat_minor": 4
}
